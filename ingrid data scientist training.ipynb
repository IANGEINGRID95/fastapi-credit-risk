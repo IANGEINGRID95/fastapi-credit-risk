{
 "cells": [
  {
   "cell_type": "code",
   "execution_count": 661,
   "id": "bbc87a59-fb37-40ab-beae-27b02a3ba849",
   "metadata": {},
   "outputs": [],
   "source": [
    "import pandas as pd"
   ]
  },
  {
   "cell_type": "code",
   "execution_count": 663,
   "id": "bb4aed6d-94d8-4cae-a7ad-d140b5b186d3",
   "metadata": {},
   "outputs": [],
   "source": [
    "Credit_fichier=\"credit_risk_dataset.csv\""
   ]
  },
  {
   "cell_type": "code",
   "execution_count": 665,
   "id": "3c75ff6e-0d76-4dfb-bef8-d68da6897096",
   "metadata": {},
   "outputs": [],
   "source": [
    "df=pd.read_csv(Credit_fichier)"
   ]
  },
  {
   "cell_type": "code",
   "execution_count": 667,
   "id": "a8c7d58c-fdbe-4acf-bf5e-1a7d13790f5a",
   "metadata": {},
   "outputs": [
    {
     "data": {
      "text/html": [
       "<div>\n",
       "<style scoped>\n",
       "    .dataframe tbody tr th:only-of-type {\n",
       "        vertical-align: middle;\n",
       "    }\n",
       "\n",
       "    .dataframe tbody tr th {\n",
       "        vertical-align: top;\n",
       "    }\n",
       "\n",
       "    .dataframe thead th {\n",
       "        text-align: right;\n",
       "    }\n",
       "</style>\n",
       "<table border=\"1\" class=\"dataframe\">\n",
       "  <thead>\n",
       "    <tr style=\"text-align: right;\">\n",
       "      <th></th>\n",
       "      <th>person_age</th>\n",
       "      <th>person_income</th>\n",
       "      <th>person_home_ownership</th>\n",
       "      <th>person_emp_length</th>\n",
       "      <th>loan_intent</th>\n",
       "      <th>loan_grade</th>\n",
       "      <th>loan_amnt</th>\n",
       "      <th>loan_int_rate</th>\n",
       "      <th>loan_status</th>\n",
       "      <th>loan_percent_income</th>\n",
       "      <th>cb_person_default_on_file</th>\n",
       "      <th>cb_person_cred_hist_length</th>\n",
       "    </tr>\n",
       "  </thead>\n",
       "  <tbody>\n",
       "    <tr>\n",
       "      <th>0</th>\n",
       "      <td>22</td>\n",
       "      <td>59000</td>\n",
       "      <td>RENT</td>\n",
       "      <td>123.0</td>\n",
       "      <td>PERSONAL</td>\n",
       "      <td>D</td>\n",
       "      <td>35000</td>\n",
       "      <td>16.02</td>\n",
       "      <td>1</td>\n",
       "      <td>0.59</td>\n",
       "      <td>Y</td>\n",
       "      <td>3</td>\n",
       "    </tr>\n",
       "    <tr>\n",
       "      <th>1</th>\n",
       "      <td>21</td>\n",
       "      <td>9600</td>\n",
       "      <td>OWN</td>\n",
       "      <td>5.0</td>\n",
       "      <td>EDUCATION</td>\n",
       "      <td>B</td>\n",
       "      <td>1000</td>\n",
       "      <td>11.14</td>\n",
       "      <td>0</td>\n",
       "      <td>0.10</td>\n",
       "      <td>N</td>\n",
       "      <td>2</td>\n",
       "    </tr>\n",
       "    <tr>\n",
       "      <th>2</th>\n",
       "      <td>25</td>\n",
       "      <td>9600</td>\n",
       "      <td>MORTGAGE</td>\n",
       "      <td>1.0</td>\n",
       "      <td>MEDICAL</td>\n",
       "      <td>C</td>\n",
       "      <td>5500</td>\n",
       "      <td>12.87</td>\n",
       "      <td>1</td>\n",
       "      <td>0.57</td>\n",
       "      <td>N</td>\n",
       "      <td>3</td>\n",
       "    </tr>\n",
       "    <tr>\n",
       "      <th>3</th>\n",
       "      <td>23</td>\n",
       "      <td>65500</td>\n",
       "      <td>RENT</td>\n",
       "      <td>4.0</td>\n",
       "      <td>MEDICAL</td>\n",
       "      <td>C</td>\n",
       "      <td>35000</td>\n",
       "      <td>15.23</td>\n",
       "      <td>1</td>\n",
       "      <td>0.53</td>\n",
       "      <td>N</td>\n",
       "      <td>2</td>\n",
       "    </tr>\n",
       "    <tr>\n",
       "      <th>4</th>\n",
       "      <td>24</td>\n",
       "      <td>54400</td>\n",
       "      <td>RENT</td>\n",
       "      <td>8.0</td>\n",
       "      <td>MEDICAL</td>\n",
       "      <td>C</td>\n",
       "      <td>35000</td>\n",
       "      <td>14.27</td>\n",
       "      <td>1</td>\n",
       "      <td>0.55</td>\n",
       "      <td>Y</td>\n",
       "      <td>4</td>\n",
       "    </tr>\n",
       "    <tr>\n",
       "      <th>...</th>\n",
       "      <td>...</td>\n",
       "      <td>...</td>\n",
       "      <td>...</td>\n",
       "      <td>...</td>\n",
       "      <td>...</td>\n",
       "      <td>...</td>\n",
       "      <td>...</td>\n",
       "      <td>...</td>\n",
       "      <td>...</td>\n",
       "      <td>...</td>\n",
       "      <td>...</td>\n",
       "      <td>...</td>\n",
       "    </tr>\n",
       "    <tr>\n",
       "      <th>32576</th>\n",
       "      <td>57</td>\n",
       "      <td>53000</td>\n",
       "      <td>MORTGAGE</td>\n",
       "      <td>1.0</td>\n",
       "      <td>PERSONAL</td>\n",
       "      <td>C</td>\n",
       "      <td>5800</td>\n",
       "      <td>13.16</td>\n",
       "      <td>0</td>\n",
       "      <td>0.11</td>\n",
       "      <td>N</td>\n",
       "      <td>30</td>\n",
       "    </tr>\n",
       "    <tr>\n",
       "      <th>32577</th>\n",
       "      <td>54</td>\n",
       "      <td>120000</td>\n",
       "      <td>MORTGAGE</td>\n",
       "      <td>4.0</td>\n",
       "      <td>PERSONAL</td>\n",
       "      <td>A</td>\n",
       "      <td>17625</td>\n",
       "      <td>7.49</td>\n",
       "      <td>0</td>\n",
       "      <td>0.15</td>\n",
       "      <td>N</td>\n",
       "      <td>19</td>\n",
       "    </tr>\n",
       "    <tr>\n",
       "      <th>32578</th>\n",
       "      <td>65</td>\n",
       "      <td>76000</td>\n",
       "      <td>RENT</td>\n",
       "      <td>3.0</td>\n",
       "      <td>HOMEIMPROVEMENT</td>\n",
       "      <td>B</td>\n",
       "      <td>35000</td>\n",
       "      <td>10.99</td>\n",
       "      <td>1</td>\n",
       "      <td>0.46</td>\n",
       "      <td>N</td>\n",
       "      <td>28</td>\n",
       "    </tr>\n",
       "    <tr>\n",
       "      <th>32579</th>\n",
       "      <td>56</td>\n",
       "      <td>150000</td>\n",
       "      <td>MORTGAGE</td>\n",
       "      <td>5.0</td>\n",
       "      <td>PERSONAL</td>\n",
       "      <td>B</td>\n",
       "      <td>15000</td>\n",
       "      <td>11.48</td>\n",
       "      <td>0</td>\n",
       "      <td>0.10</td>\n",
       "      <td>N</td>\n",
       "      <td>26</td>\n",
       "    </tr>\n",
       "    <tr>\n",
       "      <th>32580</th>\n",
       "      <td>66</td>\n",
       "      <td>42000</td>\n",
       "      <td>RENT</td>\n",
       "      <td>2.0</td>\n",
       "      <td>MEDICAL</td>\n",
       "      <td>B</td>\n",
       "      <td>6475</td>\n",
       "      <td>9.99</td>\n",
       "      <td>0</td>\n",
       "      <td>0.15</td>\n",
       "      <td>N</td>\n",
       "      <td>30</td>\n",
       "    </tr>\n",
       "  </tbody>\n",
       "</table>\n",
       "<p>32581 rows × 12 columns</p>\n",
       "</div>"
      ],
      "text/plain": [
       "       person_age  person_income person_home_ownership  person_emp_length  \\\n",
       "0              22          59000                  RENT              123.0   \n",
       "1              21           9600                   OWN                5.0   \n",
       "2              25           9600              MORTGAGE                1.0   \n",
       "3              23          65500                  RENT                4.0   \n",
       "4              24          54400                  RENT                8.0   \n",
       "...           ...            ...                   ...                ...   \n",
       "32576          57          53000              MORTGAGE                1.0   \n",
       "32577          54         120000              MORTGAGE                4.0   \n",
       "32578          65          76000                  RENT                3.0   \n",
       "32579          56         150000              MORTGAGE                5.0   \n",
       "32580          66          42000                  RENT                2.0   \n",
       "\n",
       "           loan_intent loan_grade  loan_amnt  loan_int_rate  loan_status  \\\n",
       "0             PERSONAL          D      35000          16.02            1   \n",
       "1            EDUCATION          B       1000          11.14            0   \n",
       "2              MEDICAL          C       5500          12.87            1   \n",
       "3              MEDICAL          C      35000          15.23            1   \n",
       "4              MEDICAL          C      35000          14.27            1   \n",
       "...                ...        ...        ...            ...          ...   \n",
       "32576         PERSONAL          C       5800          13.16            0   \n",
       "32577         PERSONAL          A      17625           7.49            0   \n",
       "32578  HOMEIMPROVEMENT          B      35000          10.99            1   \n",
       "32579         PERSONAL          B      15000          11.48            0   \n",
       "32580          MEDICAL          B       6475           9.99            0   \n",
       "\n",
       "       loan_percent_income cb_person_default_on_file  \\\n",
       "0                     0.59                         Y   \n",
       "1                     0.10                         N   \n",
       "2                     0.57                         N   \n",
       "3                     0.53                         N   \n",
       "4                     0.55                         Y   \n",
       "...                    ...                       ...   \n",
       "32576                 0.11                         N   \n",
       "32577                 0.15                         N   \n",
       "32578                 0.46                         N   \n",
       "32579                 0.10                         N   \n",
       "32580                 0.15                         N   \n",
       "\n",
       "       cb_person_cred_hist_length  \n",
       "0                               3  \n",
       "1                               2  \n",
       "2                               3  \n",
       "3                               2  \n",
       "4                               4  \n",
       "...                           ...  \n",
       "32576                          30  \n",
       "32577                          19  \n",
       "32578                          28  \n",
       "32579                          26  \n",
       "32580                          30  \n",
       "\n",
       "[32581 rows x 12 columns]"
      ]
     },
     "execution_count": 667,
     "metadata": {},
     "output_type": "execute_result"
    }
   ],
   "source": [
    "df"
   ]
  },
  {
   "cell_type": "code",
   "execution_count": 669,
   "id": "8472fda8-0b10-4b87-9229-f100ff7c0151",
   "metadata": {},
   "outputs": [
    {
     "data": {
      "text/plain": [
       "<bound method NDFrame.describe of        person_age  person_income person_home_ownership  person_emp_length  \\\n",
       "0              22          59000                  RENT              123.0   \n",
       "1              21           9600                   OWN                5.0   \n",
       "2              25           9600              MORTGAGE                1.0   \n",
       "3              23          65500                  RENT                4.0   \n",
       "4              24          54400                  RENT                8.0   \n",
       "...           ...            ...                   ...                ...   \n",
       "32576          57          53000              MORTGAGE                1.0   \n",
       "32577          54         120000              MORTGAGE                4.0   \n",
       "32578          65          76000                  RENT                3.0   \n",
       "32579          56         150000              MORTGAGE                5.0   \n",
       "32580          66          42000                  RENT                2.0   \n",
       "\n",
       "           loan_intent loan_grade  loan_amnt  loan_int_rate  loan_status  \\\n",
       "0             PERSONAL          D      35000          16.02            1   \n",
       "1            EDUCATION          B       1000          11.14            0   \n",
       "2              MEDICAL          C       5500          12.87            1   \n",
       "3              MEDICAL          C      35000          15.23            1   \n",
       "4              MEDICAL          C      35000          14.27            1   \n",
       "...                ...        ...        ...            ...          ...   \n",
       "32576         PERSONAL          C       5800          13.16            0   \n",
       "32577         PERSONAL          A      17625           7.49            0   \n",
       "32578  HOMEIMPROVEMENT          B      35000          10.99            1   \n",
       "32579         PERSONAL          B      15000          11.48            0   \n",
       "32580          MEDICAL          B       6475           9.99            0   \n",
       "\n",
       "       loan_percent_income cb_person_default_on_file  \\\n",
       "0                     0.59                         Y   \n",
       "1                     0.10                         N   \n",
       "2                     0.57                         N   \n",
       "3                     0.53                         N   \n",
       "4                     0.55                         Y   \n",
       "...                    ...                       ...   \n",
       "32576                 0.11                         N   \n",
       "32577                 0.15                         N   \n",
       "32578                 0.46                         N   \n",
       "32579                 0.10                         N   \n",
       "32580                 0.15                         N   \n",
       "\n",
       "       cb_person_cred_hist_length  \n",
       "0                               3  \n",
       "1                               2  \n",
       "2                               3  \n",
       "3                               2  \n",
       "4                               4  \n",
       "...                           ...  \n",
       "32576                          30  \n",
       "32577                          19  \n",
       "32578                          28  \n",
       "32579                          26  \n",
       "32580                          30  \n",
       "\n",
       "[32581 rows x 12 columns]>"
      ]
     },
     "execution_count": 669,
     "metadata": {},
     "output_type": "execute_result"
    }
   ],
   "source": [
    "df.describe"
   ]
  },
  {
   "cell_type": "code",
   "execution_count": 671,
   "id": "2b88d8c3-0eff-4769-a93b-e96d2d534deb",
   "metadata": {},
   "outputs": [
    {
     "name": "stdout",
     "output_type": "stream",
     "text": [
      "   person_age  person_income person_home_ownership  person_emp_length  \\\n",
      "0          22          59000                  RENT              123.0   \n",
      "1          21           9600                   OWN                5.0   \n",
      "2          25           9600              MORTGAGE                1.0   \n",
      "3          23          65500                  RENT                4.0   \n",
      "4          24          54400                  RENT                8.0   \n",
      "\n",
      "  loan_intent loan_grade  loan_amnt  loan_int_rate  loan_status  \\\n",
      "0    PERSONAL          D      35000          16.02            1   \n",
      "1   EDUCATION          B       1000          11.14            0   \n",
      "2     MEDICAL          C       5500          12.87            1   \n",
      "3     MEDICAL          C      35000          15.23            1   \n",
      "4     MEDICAL          C      35000          14.27            1   \n",
      "\n",
      "   loan_percent_income cb_person_default_on_file  cb_person_cred_hist_length  \n",
      "0                 0.59                         Y                           3  \n",
      "1                 0.10                         N                           2  \n",
      "2                 0.57                         N                           3  \n",
      "3                 0.53                         N                           2  \n",
      "4                 0.55                         Y                           4  \n"
     ]
    }
   ],
   "source": [
    "print(df.head())"
   ]
  },
  {
   "cell_type": "code",
   "execution_count": 673,
   "id": "64d8055d-1069-494b-a5d2-8fb11f331e1c",
   "metadata": {},
   "outputs": [
    {
     "name": "stdout",
     "output_type": "stream",
     "text": [
      "<class 'pandas.core.frame.DataFrame'>\n",
      "RangeIndex: 32581 entries, 0 to 32580\n",
      "Data columns (total 12 columns):\n",
      " #   Column                      Non-Null Count  Dtype  \n",
      "---  ------                      --------------  -----  \n",
      " 0   person_age                  32581 non-null  int64  \n",
      " 1   person_income               32581 non-null  int64  \n",
      " 2   person_home_ownership       32581 non-null  object \n",
      " 3   person_emp_length           31686 non-null  float64\n",
      " 4   loan_intent                 32581 non-null  object \n",
      " 5   loan_grade                  32581 non-null  object \n",
      " 6   loan_amnt                   32581 non-null  int64  \n",
      " 7   loan_int_rate               29465 non-null  float64\n",
      " 8   loan_status                 32581 non-null  int64  \n",
      " 9   loan_percent_income         32581 non-null  float64\n",
      " 10  cb_person_default_on_file   32581 non-null  object \n",
      " 11  cb_person_cred_hist_length  32581 non-null  int64  \n",
      "dtypes: float64(3), int64(5), object(4)\n",
      "memory usage: 3.0+ MB\n",
      "None\n"
     ]
    }
   ],
   "source": [
    "print(df.info())"
   ]
  },
  {
   "cell_type": "code",
   "execution_count": 675,
   "id": "f511037d-0b7f-4937-aa56-9555dc252b72",
   "metadata": {},
   "outputs": [
    {
     "name": "stdout",
     "output_type": "stream",
     "text": [
      "person_age                       0\n",
      "person_income                    0\n",
      "person_home_ownership            0\n",
      "person_emp_length              895\n",
      "loan_intent                      0\n",
      "loan_grade                       0\n",
      "loan_amnt                        0\n",
      "loan_int_rate                 3116\n",
      "loan_status                      0\n",
      "loan_percent_income              0\n",
      "cb_person_default_on_file        0\n",
      "cb_person_cred_hist_length       0\n",
      "dtype: int64\n"
     ]
    }
   ],
   "source": [
    "print(df.isnull().sum())"
   ]
  },
  {
   "cell_type": "code",
   "execution_count": 677,
   "id": "a5e586b0-428a-4b44-8dc4-ba9718d1e069",
   "metadata": {},
   "outputs": [],
   "source": [
    "df.fillna(-1,inplace=True)"
   ]
  },
  {
   "cell_type": "code",
   "execution_count": 679,
   "id": "3135217f-5f43-4a91-8876-72fab9675307",
   "metadata": {},
   "outputs": [
    {
     "name": "stdout",
     "output_type": "stream",
     "text": [
      "person_age                    0\n",
      "person_income                 0\n",
      "person_home_ownership         0\n",
      "person_emp_length             0\n",
      "loan_intent                   0\n",
      "loan_grade                    0\n",
      "loan_amnt                     0\n",
      "loan_int_rate                 0\n",
      "loan_status                   0\n",
      "loan_percent_income           0\n",
      "cb_person_default_on_file     0\n",
      "cb_person_cred_hist_length    0\n",
      "dtype: int64\n"
     ]
    }
   ],
   "source": [
    "print(df.isnull().sum())"
   ]
  },
  {
   "cell_type": "code",
   "execution_count": 681,
   "id": "56640cf7-63eb-409f-8877-9dcdeee38132",
   "metadata": {},
   "outputs": [
    {
     "name": "stdout",
     "output_type": "stream",
     "text": [
      "Index(['person_age', 'person_income', 'person_home_ownership',\n",
      "       'person_emp_length', 'loan_intent', 'loan_grade', 'loan_amnt',\n",
      "       'loan_int_rate', 'loan_status', 'loan_percent_income',\n",
      "       'cb_person_default_on_file', 'cb_person_cred_hist_length'],\n",
      "      dtype='object')\n"
     ]
    }
   ],
   "source": [
    "print(df.columns)"
   ]
  },
  {
   "cell_type": "code",
   "execution_count": 683,
   "id": "e8dc09d6-f306-48ba-b3b3-bb6c1e21e64d",
   "metadata": {},
   "outputs": [
    {
     "name": "stdout",
     "output_type": "stream",
     "text": [
      "0        False\n",
      "1        False\n",
      "2        False\n",
      "3        False\n",
      "4        False\n",
      "         ...  \n",
      "32576    False\n",
      "32577    False\n",
      "32578    False\n",
      "32579    False\n",
      "32580    False\n",
      "Length: 32581, dtype: bool\n"
     ]
    }
   ],
   "source": [
    "doublons=df.duplicated()\n",
    "print(doublons)"
   ]
  },
  {
   "cell_type": "code",
   "execution_count": 685,
   "id": "6e333a98-2b06-49e9-8d03-599e6caea396",
   "metadata": {},
   "outputs": [
    {
     "name": "stdout",
     "output_type": "stream",
     "text": [
      "Nombre de lignes après suppression : 32416\n"
     ]
    }
   ],
   "source": [
    "df=df.drop_duplicates()\n",
    "print(f\"Nombre de lignes après suppression : {len(df)}\")"
   ]
  },
  {
   "cell_type": "code",
   "execution_count": 687,
   "id": "962a2e06-82be-48b4-940f-e600e20f6276",
   "metadata": {},
   "outputs": [
    {
     "data": {
      "text/plain": [
       "32416"
      ]
     },
     "execution_count": 687,
     "metadata": {},
     "output_type": "execute_result"
    }
   ],
   "source": [
    "len (df)"
   ]
  },
  {
   "cell_type": "code",
   "execution_count": 689,
   "id": "24d34560-61b5-488d-b248-f6a6d0e05340",
   "metadata": {},
   "outputs": [
    {
     "name": "stdout",
     "output_type": "stream",
     "text": [
      "Index(['person_age', 'person_income', 'person_home_ownership',\n",
      "       'person_emp_length', 'loan_intent', 'loan_grade', 'loan_amnt',\n",
      "       'loan_int_rate', 'loan_status', 'loan_percent_income',\n",
      "       'cb_person_default_on_file', 'cb_person_cred_hist_length'],\n",
      "      dtype='object')\n"
     ]
    }
   ],
   "source": [
    "print(df.columns)"
   ]
  },
  {
   "cell_type": "code",
   "execution_count": 691,
   "id": "9b867070-e365-43bd-aff3-4d1e9bd0077f",
   "metadata": {},
   "outputs": [
    {
     "data": {
      "image/png": "[encoded data removed]",
      "text/plain": [
       "<Figure size 640x480 with 1 Axes>"
      ]
     },
     "metadata": {},
     "output_type": "display_data"
    }
   ],
   "source": [
    "import matplotlib.pyplot as plt\n",
    "import seaborn as sns\n",
    "sns.countplot(x='person_home_ownership',data=df)\n",
    "plt.title('Répartition de person_home_ownership')\n",
    "plt.show()"
   ]
  },
  {
   "cell_type": "code",
   "execution_count": 693,
   "id": "5811030d-8b3e-4ba8-89bf-aebf5d34b6e8",
   "metadata": {},
   "outputs": [
    {
     "name": "stdout",
     "output_type": "stream",
     "text": [
      "person_age                      int64\n",
      "person_income                   int64\n",
      "person_home_ownership          object\n",
      "person_emp_length             float64\n",
      "loan_intent                    object\n",
      "loan_grade                     object\n",
      "loan_amnt                       int64\n",
      "loan_int_rate                 float64\n",
      "loan_status                     int64\n",
      "loan_percent_income           float64\n",
      "cb_person_default_on_file      object\n",
      "cb_person_cred_hist_length      int64\n",
      "dtype: object\n"
     ]
    }
   ],
   "source": [
    "print(df.dtypes)"
   ]
  },
  {
   "cell_type": "code",
   "execution_count": 695,
   "id": "fcd71865-2841-42a0-ae97-a4ffe9e9f611",
   "metadata": {},
   "outputs": [
    {
     "name": "stdout",
     "output_type": "stream",
     "text": [
      "labels et leur fréquence dans la colonne 'person_home_ownership':\n",
      "person_home_ownership\n",
      "RENT        16378\n",
      "MORTGAGE    13369\n",
      "OWN          2563\n",
      "OTHER         106\n",
      "Name: count, dtype: int64\n"
     ]
    }
   ],
   "source": [
    "label_counts=df['person_home_ownership'].value_counts()\n",
    "print(f\"labels et leur fréquence dans la colonne '{'person_home_ownership'}':\")\n",
    "print(label_counts)"
   ]
  },
  {
   "cell_type": "code",
   "execution_count": 697,
   "id": "1e5a8086-7e32-4ea4-9d80-d3dbc611c460",
   "metadata": {},
   "outputs": [
    {
     "name": "stdout",
     "output_type": "stream",
     "text": [
      "labels et leur fréquence dans la colonne 'loan_intent':\n",
      "loan_intent\n",
      "EDUCATION            6411\n",
      "MEDICAL              6042\n",
      "VENTURE              5682\n",
      "PERSONAL             5498\n",
      "DEBTCONSOLIDATION    5189\n",
      "HOMEIMPROVEMENT      3594\n",
      "Name: count, dtype: int64\n"
     ]
    }
   ],
   "source": [
    "label_counts=df['loan_intent'].value_counts()\n",
    "print(f\"labels et leur fréquence dans la colonne '{'loan_intent'}':\")\n",
    "print(label_counts)"
   ]
  },
  {
   "cell_type": "code",
   "execution_count": 705,
   "id": "00d06d5c-f20c-44a4-a025-d04a3769118c",
   "metadata": {},
   "outputs": [
    {
     "name": "stdout",
     "output_type": "stream",
     "text": [
      "labels et leur fréquence dans la colonne 'loan_status':\n",
      "loan_status\n",
      "0    25327\n",
      "1     7089\n",
      "Name: count, dtype: int64\n"
     ]
    }
   ],
   "source": [
    "label_counts=df['loan_status'].value_counts()\n",
    "print(f\"labels et leur fréquence dans la colonne '{'loan_status'}':\")\n",
    "print(label_counts)"
   ]
  },
  {
   "cell_type": "code",
   "execution_count": 701,
   "id": "0145633e-4895-40a3-b48a-3472afe73282",
   "metadata": {},
   "outputs": [
    {
     "name": "stdout",
     "output_type": "stream",
     "text": [
      "labels et leur fréquence dans la colonne 'loan_grade':\n",
      "loan_grade\n",
      "A    10703\n",
      "B    10387\n",
      "C     6438\n",
      "D     3620\n",
      "E      963\n",
      "F      241\n",
      "G       64\n",
      "Name: count, dtype: int64\n"
     ]
    }
   ],
   "source": [
    "label_counts=df['loan_grade'].value_counts()\n",
    "print(f\"labels et leur fréquence dans la colonne '{'loan_grade'}':\")\n",
    "print(label_counts)"
   ]
  },
  {
   "cell_type": "code",
   "execution_count": 707,
   "id": "ead3fbb7-b11f-48b7-8d3d-ef2e83c9871d",
   "metadata": {},
   "outputs": [
    {
     "name": "stdout",
     "output_type": "stream",
     "text": [
      "labels et leur fréquence dans la colonne 'loan_grade':\n",
      "loan_grade\n",
      "A    10703\n",
      "B    10387\n",
      "C     6438\n",
      "D     3620\n",
      "E      963\n",
      "F      241\n",
      "G       64\n",
      "Name: count, dtype: int64\n"
     ]
    }
   ],
   "source": [
    "label_counts=df['loan_grade'].value_counts()\n",
    "print(f\"labels et leur fréquence dans la colonne '{'loan_grade'}':\")\n",
    "print(label_counts)"
   ]
  },
  {
   "cell_type": "code",
   "execution_count": 709,
   "id": "5fdaaf0c-9181-43e3-bbc0-c99584cacde3",
   "metadata": {},
   "outputs": [
    {
     "name": "stdout",
     "output_type": "stream",
     "text": [
      "labels et leur fréquence dans la colonne 'cb_person_default_on_file':\n",
      "cb_person_default_on_file\n",
      "N    26686\n",
      "Y     5730\n",
      "Name: count, dtype: int64\n"
     ]
    }
   ],
   "source": [
    "label_counts=df['cb_person_default_on_file'].value_counts()\n",
    "print(f\"labels et leur fréquence dans la colonne '{'cb_person_default_on_file'}':\")\n",
    "print(label_counts)"
   ]
  },
  {
   "cell_type": "code",
   "execution_count": 711,
   "id": "c7518105-81e6-4e52-ac4b-52bfeb6fd92d",
   "metadata": {},
   "outputs": [
    {
     "name": "stdout",
     "output_type": "stream",
     "text": [
      "   encoded_loan_intent loan_intent\n",
      "0                    4    PERSONAL\n",
      "1                    1   EDUCATION\n",
      "2                    2     MEDICAL\n",
      "3                    2     MEDICAL\n",
      "4                    2     MEDICAL\n",
      "   encoded_loan_grade loan_grade\n",
      "0                   4          D\n",
      "1                   2          B\n",
      "2                   3          C\n",
      "3                   3          C\n",
      "4                   3          C\n",
      "   encoded_cb_person_default_on_file cb_person_default_on_file\n",
      "0                                  2                         Y\n",
      "1                                  1                         N\n",
      "2                                  1                         N\n",
      "3                                  1                         N\n",
      "4                                  2                         Y\n",
      "   encoded_home_ownership person_home_ownership\n",
      "0                       1                  RENT\n",
      "1                       3                   OWN\n",
      "2                       2              MORTGAGE\n",
      "3                       1                  RENT\n",
      "4                       1                  RENT\n"
     ]
    }
   ],
   "source": [
    "df=df.copy()\n",
    "df['encoded_home_ownership']=df['person_home_ownership'].map({'RENT':1,'MORTGAGE':2,'OWN':3,'OTHER':4})\n",
    "df['encoded_loan_intent']=df['loan_intent'].map({'EDUCATION':1,'MEDICAL':2,'VENTURE':3,'PERSONAL':4,'DEBTCONSOLIDATION':5,'HOMEIMPROVEMENT':6})\n",
    "df['encoded_loan_grade']=df['loan_grade'].map({'A':1,'B':2,'C':3,'D':4,'E':5,'F':6,'G':7})\n",
    "df['encoded_cb_person_default_on_file']=df['cb_person_default_on_file'].map({'N':1,'Y':2})\n",
    "df['encoded_home_ownership']=df['encoded_home_ownership'].astype(int)\n",
    "df['encoded_loan_intent']=df['encoded_loan_intent'].astype(int)\n",
    "df['encoded_loan_grade']=df['encoded_loan_grade'].astype(int)\n",
    "df['encoded_cb_person_default_on_file']=df['encoded_cb_person_default_on_file'].astype(int)\n",
    "print(df[['encoded_loan_intent','loan_intent']].head())\n",
    "print(df[['encoded_loan_grade','loan_grade']].head())\n",
    "print(df[['encoded_cb_person_default_on_file','cb_person_default_on_file']].head())\n",
    "print(df[['encoded_home_ownership','person_home_ownership']].head())"
   ]
  },
  {
   "cell_type": "code",
   "execution_count": 622,
   "id": "53dfedd3-3add-4dbf-a238-7e9bb84ff6fc",
   "metadata": {},
   "outputs": [
    {
     "name": "stdout",
     "output_type": "stream",
     "text": [
      "person_age                             int64\n",
      "person_income                          int64\n",
      "person_home_ownership                 object\n",
      "person_emp_length                    float64\n",
      "loan_intent                           object\n",
      "loan_grade                            object\n",
      "loan_amnt                              int64\n",
      "loan_int_rate                        float64\n",
      "loan_status                            int64\n",
      "loan_percent_income                  float64\n",
      "cb_person_default_on_file             object\n",
      "cb_person_cred_hist_length             int64\n",
      "encoded_home_ownership                 int32\n",
      "encoded_loan_intent                    int32\n",
      "encoded_loan_grade                     int32\n",
      "encoded_cb_person_default_on_file      int32\n",
      "dtype: object\n"
     ]
    }
   ],
   "source": [
    "print(df.dtypes)"
   ]
  },
  {
   "cell_type": "code",
   "execution_count": 713,
   "id": "3d117300-9e49-4a3a-b488-d698dccfe76e",
   "metadata": {},
   "outputs": [],
   "source": [
    "# Suppression des colonnes originales\n",
    "df = df.drop(columns=['person_home_ownership', 'loan_intent', 'loan_grade', 'cb_person_default_on_file'], errors='ignore')"
   ]
  },
  {
   "cell_type": "code",
   "execution_count": 715,
   "id": "9dfe387e-fe9e-441a-a46d-4a0c20cd243a",
   "metadata": {},
   "outputs": [
    {
     "name": "stdout",
     "output_type": "stream",
     "text": [
      "person_age                           0\n",
      "person_income                        0\n",
      "person_emp_length                    0\n",
      "loan_amnt                            0\n",
      "loan_int_rate                        0\n",
      "loan_status                          0\n",
      "loan_percent_income                  0\n",
      "cb_person_cred_hist_length           0\n",
      "encoded_home_ownership               0\n",
      "encoded_loan_intent                  0\n",
      "encoded_loan_grade                   0\n",
      "encoded_cb_person_default_on_file    0\n",
      "dtype: int64\n"
     ]
    }
   ],
   "source": [
    "print(df.isnull().sum())"
   ]
  },
  {
   "cell_type": "code",
   "execution_count": 717,
   "id": "1ce3362d-4bf1-4cf7-8be4-10fcf00746f5",
   "metadata": {},
   "outputs": [],
   "source": [
    "df.fillna(0,inplace=True)"
   ]
  },
  {
   "cell_type": "code",
   "execution_count": 719,
   "id": "4bdabf2a-8864-4d7b-be94-29a056cea96d",
   "metadata": {},
   "outputs": [
    {
     "name": "stdout",
     "output_type": "stream",
     "text": [
      "person_age                           0\n",
      "person_income                        0\n",
      "person_emp_length                    0\n",
      "loan_amnt                            0\n",
      "loan_int_rate                        0\n",
      "loan_status                          0\n",
      "loan_percent_income                  0\n",
      "cb_person_cred_hist_length           0\n",
      "encoded_home_ownership               0\n",
      "encoded_loan_intent                  0\n",
      "encoded_loan_grade                   0\n",
      "encoded_cb_person_default_on_file    0\n",
      "dtype: int64\n"
     ]
    }
   ],
   "source": [
    "print(df.isnull().sum())"
   ]
  },
  {
   "cell_type": "code",
   "execution_count": 721,
   "id": "e55a2a72-2fc8-42d9-9710-8859b5c0bae4",
   "metadata": {},
   "outputs": [
    {
     "name": "stdout",
     "output_type": "stream",
     "text": [
      "person_age                             int64\n",
      "person_income                          int64\n",
      "person_emp_length                    float64\n",
      "loan_amnt                              int64\n",
      "loan_int_rate                        float64\n",
      "loan_status                            int64\n",
      "loan_percent_income                  float64\n",
      "cb_person_cred_hist_length             int64\n",
      "encoded_home_ownership                 int32\n",
      "encoded_loan_intent                    int32\n",
      "encoded_loan_grade                     int32\n",
      "encoded_cb_person_default_on_file      int32\n",
      "dtype: object\n"
     ]
    }
   ],
   "source": [
    "print(df.dtypes)"
   ]
  },
  {
   "cell_type": "code",
   "execution_count": 723,
   "id": "9169435a-9096-4e47-ab57-025467b87a52",
   "metadata": {},
   "outputs": [
    {
     "name": "stdout",
     "output_type": "stream",
     "text": [
      "Matrice de corrélation des variables encodées:\n",
      "                                   encoded_home_ownership  \\\n",
      "encoded_home_ownership                           1.000000   \n",
      "encoded_loan_intent                              0.012020   \n",
      "encoded_loan_grade                              -0.096476   \n",
      "encoded_cb_person_default_on_file               -0.045908   \n",
      "\n",
      "                                   encoded_loan_intent  encoded_loan_grade  \\\n",
      "encoded_home_ownership                        0.012020           -0.096476   \n",
      "encoded_loan_intent                           1.000000            0.019401   \n",
      "encoded_loan_grade                            0.019401            1.000000   \n",
      "encoded_cb_person_default_on_file             0.013627            0.536746   \n",
      "\n",
      "                                   encoded_cb_person_default_on_file  \n",
      "encoded_home_ownership                                     -0.045908  \n",
      "encoded_loan_intent                                         0.013627  \n",
      "encoded_loan_grade                                          0.536746  \n",
      "encoded_cb_person_default_on_file                           1.000000  \n"
     ]
    }
   ],
   "source": [
    "encoded_columns = ['encoded_home_ownership', 'encoded_loan_intent', 'encoded_loan_grade', 'encoded_cb_person_default_on_file']\n",
    "df_encoded = df[encoded_columns]\n",
    "corr_matrix = df_encoded.corr()\n",
    "print(\"Matrice de corrélation des variables encodées:\")\n",
    "print(corr_matrix)"
   ]
  },
  {
   "cell_type": "code",
   "execution_count": 725,
   "id": "f58e0f7b-c944-4b13-a95e-93a4d649f0ff",
   "metadata": {},
   "outputs": [
    {
     "name": "stdout",
     "output_type": "stream",
     "text": [
      "Matrice de corrélation des variables numériques et encodées :\n",
      "                                   person_age  person_income  \\\n",
      "person_age                           1.000000       0.173293   \n",
      "person_income                        0.173293       1.000000   \n",
      "person_emp_length                    0.159509       0.142849   \n",
      "loan_amnt                            0.050680       0.265947   \n",
      "loan_int_rate                       -0.000168      -0.001765   \n",
      "loan_status                         -0.022698      -0.145005   \n",
      "loan_percent_income                 -0.042300      -0.254472   \n",
      "cb_person_cred_hist_length           0.859215       0.117614   \n",
      "encoded_home_ownership               0.021434       0.124506   \n",
      "encoded_loan_intent                  0.083895       0.044427   \n",
      "encoded_loan_grade                   0.013083      -0.001001   \n",
      "encoded_cb_person_default_on_file    0.005175      -0.003617   \n",
      "\n",
      "                                   person_emp_length  loan_amnt  \\\n",
      "person_age                                  0.159509   0.050680   \n",
      "person_income                               0.142849   0.265947   \n",
      "person_emp_length                           1.000000   0.124136   \n",
      "loan_amnt                                   0.124136   1.000000   \n",
      "loan_int_rate                              -0.028831   0.089532   \n",
      "loan_status                                -0.088177   0.105736   \n",
      "loan_percent_income                        -0.059064   0.572824   \n",
      "cb_person_cred_hist_length                  0.141043   0.041865   \n",
      "encoded_home_ownership                      0.166674   0.081033   \n",
      "encoded_loan_intent                         0.035652   0.034656   \n",
      "encoded_loan_grade                         -0.036052   0.145976   \n",
      "encoded_cb_person_default_on_file          -0.022370   0.039341   \n",
      "\n",
      "                                   loan_int_rate  loan_status  \\\n",
      "person_age                             -0.000168    -0.022698   \n",
      "person_income                          -0.001765    -0.145005   \n",
      "person_emp_length                      -0.028831    -0.088177   \n",
      "loan_amnt                               0.089532     0.105736   \n",
      "loan_int_rate                           1.000000     0.217341   \n",
      "loan_status                             0.217341     1.000000   \n",
      "loan_percent_income                     0.072873     0.379697   \n",
      "cb_person_cred_hist_length              0.000650    -0.016498   \n",
      "encoded_home_ownership                 -0.069581    -0.223543   \n",
      "encoded_loan_intent                     0.011987     0.061302   \n",
      "encoded_loan_grade                      0.588017     0.373436   \n",
      "encoded_cb_person_default_on_file       0.317060     0.179385   \n",
      "\n",
      "                                   loan_percent_income  \\\n",
      "person_age                                   -0.042300   \n",
      "person_income                                -0.254472   \n",
      "person_emp_length                            -0.059064   \n",
      "loan_amnt                                     0.572824   \n",
      "loan_int_rate                                 0.072873   \n",
      "loan_status                                   0.379697   \n",
      "loan_percent_income                           1.000000   \n",
      "cb_person_cred_hist_length                   -0.031457   \n",
      "encoded_home_ownership                       -0.066893   \n",
      "encoded_loan_intent                          -0.011582   \n",
      "encoded_loan_grade                            0.122863   \n",
      "encoded_cb_person_default_on_file             0.036204   \n",
      "\n",
      "                                   cb_person_cred_hist_length  \\\n",
      "person_age                                           0.859215   \n",
      "person_income                                        0.117614   \n",
      "person_emp_length                                    0.141043   \n",
      "loan_amnt                                            0.041865   \n",
      "loan_int_rate                                        0.000650   \n",
      "loan_status                                         -0.016498   \n",
      "loan_percent_income                                 -0.031457   \n",
      "cb_person_cred_hist_length                           1.000000   \n",
      "encoded_home_ownership                               0.021183   \n",
      "encoded_loan_intent                                  0.071349   \n",
      "encoded_loan_grade                                   0.014141   \n",
      "encoded_cb_person_default_on_file                    0.004169   \n",
      "\n",
      "                                   encoded_home_ownership  \\\n",
      "person_age                                       0.021434   \n",
      "person_income                                    0.124506   \n",
      "person_emp_length                                0.166674   \n",
      "loan_amnt                                        0.081033   \n",
      "loan_int_rate                                   -0.069581   \n",
      "loan_status                                     -0.223543   \n",
      "loan_percent_income                             -0.066893   \n",
      "cb_person_cred_hist_length                       0.021183   \n",
      "encoded_home_ownership                           1.000000   \n",
      "encoded_loan_intent                              0.012020   \n",
      "encoded_loan_grade                              -0.096476   \n",
      "encoded_cb_person_default_on_file               -0.045908   \n",
      "\n",
      "                                   encoded_loan_intent  encoded_loan_grade  \\\n",
      "person_age                                    0.083895            0.013083   \n",
      "person_income                                 0.044427           -0.001001   \n",
      "person_emp_length                             0.035652           -0.036052   \n",
      "loan_amnt                                     0.034656            0.145976   \n",
      "loan_int_rate                                 0.011987            0.588017   \n",
      "loan_status                                   0.061302            0.373436   \n",
      "loan_percent_income                          -0.011582            0.122863   \n",
      "cb_person_cred_hist_length                    0.071349            0.014141   \n",
      "encoded_home_ownership                        0.012020           -0.096476   \n",
      "encoded_loan_intent                           1.000000            0.019401   \n",
      "encoded_loan_grade                            0.019401            1.000000   \n",
      "encoded_cb_person_default_on_file             0.013627            0.536746   \n",
      "\n",
      "                                   encoded_cb_person_default_on_file  \n",
      "person_age                                                  0.005175  \n",
      "person_income                                              -0.003617  \n",
      "person_emp_length                                          -0.022370  \n",
      "loan_amnt                                                   0.039341  \n",
      "loan_int_rate                                               0.317060  \n",
      "loan_status                                                 0.179385  \n",
      "loan_percent_income                                         0.036204  \n",
      "cb_person_cred_hist_length                                  0.004169  \n",
      "encoded_home_ownership                                     -0.045908  \n",
      "encoded_loan_intent                                         0.013627  \n",
      "encoded_loan_grade                                          0.536746  \n",
      "encoded_cb_person_default_on_file                           1.000000  \n"
     ]
    }
   ],
   "source": [
    "numeric_columns = df.select_dtypes(include=['int64', 'float64']).columns\n",
    "encoded_columns = ['encoded_home_ownership', 'encoded_loan_intent', 'encoded_loan_grade', 'encoded_cb_person_default_on_file']\n",
    "all_relevant_columns = list(numeric_columns) + encoded_columns\n",
    "df_relevant = df[all_relevant_columns]\n",
    "corr_matrix = df_relevant.corr()\n",
    "print(\"Matrice de corrélation des variables numériques et encodées :\")\n",
    "print(corr_matrix)"
   ]
  },
  {
   "cell_type": "code",
   "execution_count": 727,
   "id": "5962a0eb-cc4d-4200-9575-52d8982fdc09",
   "metadata": {},
   "outputs": [
    {
     "data": {
      "image/png": "[encoded data removed]",
      "text/plain": [
       "<Figure size 640x480 with 1 Axes>"
      ]
     },
     "metadata": {},
     "output_type": "display_data"
    }
   ],
   "source": [
    "import matplotlib.pyplot as plt\n",
    "import seaborn as sns\n",
    "\n",
    "df['loan_status'].hist(bins=20)\n",
    "plt.title('Distribution de loan status')\n",
    "plt.xlabel('Valeurs')\n",
    "plt.ylabel('Fréquence')\n",
    "plt.show()"
   ]
  },
  {
   "cell_type": "code",
   "execution_count": 729,
   "id": "5e2745d8-c6dd-4f51-9da2-d579d4a2ecf8",
   "metadata": {},
   "outputs": [
    {
     "data": {
      "text/plain": [
       "<Axes: xlabel='loan_status', ylabel='Count'>"
      ]
     },
     "execution_count": 729,
     "metadata": {},
     "output_type": "execute_result"
    },
    {
     "data": {
      "image/png": "[encoded data removed]",
      "text/plain": [
       "<Figure size 640x480 with 1 Axes>"
      ]
     },
     "metadata": {},
     "output_type": "display_data"
    }
   ],
   "source": [
    "sns.histplot(df['loan_status'],kde=True)"
   ]
  },
  {
   "cell_type": "code",
   "execution_count": 731,
   "id": "0c54b7eb-1d21-4125-ad8c-8d621d75deec",
   "metadata": {},
   "outputs": [
    {
     "name": "stdout",
     "output_type": "stream",
     "text": [
      "   person_age  person_income  person_emp_length  loan_amnt  loan_int_rate  \\\n",
      "0   -0.904471      -0.114354          28.209485   4.018287       1.311903   \n",
      "1   -1.061852      -0.910941           0.087687  -1.359219       0.270933   \n",
      "2   -0.432327      -0.910941          -0.865595  -0.647491       0.639965   \n",
      "3   -0.747089      -0.009540          -0.150634   4.018287       1.143385   \n",
      "4   -0.589708      -0.188530           0.802647   4.018287       0.938604   \n",
      "\n",
      "   loan_status  loan_percent_income  cb_person_cred_hist_length  \\\n",
      "0     1.890164             3.929865                   -0.692614   \n",
      "1    -0.529055            -0.657707                   -0.938982   \n",
      "2     1.890164             3.742617                   -0.692614   \n",
      "3     1.890164             3.368121                   -0.938982   \n",
      "4     1.890164             3.555369                   -0.446246   \n",
      "\n",
      "   encoded_home_ownership  encoded_loan_intent  encoded_loan_grade  \\\n",
      "0               -0.894141             0.459926            1.524484   \n",
      "1                2.187184            -1.356615           -0.188909   \n",
      "2                0.646521            -0.751102            0.667787   \n",
      "3               -0.894141            -0.751102            0.667787   \n",
      "4               -0.894141            -0.751102            0.667787   \n",
      "\n",
      "   encoded_cb_person_default_on_file  \n",
      "0                           2.158065  \n",
      "1                          -0.463378  \n",
      "2                          -0.463378  \n",
      "3                          -0.463378  \n",
      "4                           2.158065  \n"
     ]
    }
   ],
   "source": [
    "from sklearn.preprocessing import StandardScaler\n",
    "numeric_columns = df.select_dtypes(include=['int64', 'float64']).columns\n",
    "encoded_columns = ['encoded_home_ownership', 'encoded_loan_intent', 'encoded_loan_grade', 'encoded_cb_person_default_on_file']\n",
    "all_relevant_columns = list(numeric_columns) + encoded_columns\n",
    "scaler=StandardScaler()\n",
    "df[all_relevant_columns]=scaler.fit_transform(df[all_relevant_columns])\n",
    "print(df.head())"
   ]
  },
  {
   "cell_type": "code",
   "execution_count": 644,
   "id": "687b3e76-ca93-434f-91bf-4a7db0fa3b3e",
   "metadata": {},
   "outputs": [
    {
     "name": "stdout",
     "output_type": "stream",
     "text": [
      "person_age                           2.244558e-16\n",
      "person_income                        1.402848e-17\n",
      "person_emp_length                    8.417091e-17\n",
      "loan_amnt                            1.192421e-16\n",
      "loan_int_rate                        1.154062e-16\n",
      "loan_status                         -1.069672e-16\n",
      "loan_percent_income                  1.508062e-16\n",
      "cb_person_cred_hist_length          -1.122279e-16\n",
      "encoded_home_ownership              -9.118515e-17\n",
      "encoded_loan_intent                  5.611394e-17\n",
      "encoded_loan_grade                   1.753561e-18\n",
      "encoded_cb_person_default_on_file   -1.612180e-16\n",
      "dtype: float64\n",
      "person_age                           1.000015\n",
      "person_income                        1.000015\n",
      "person_emp_length                    1.000015\n",
      "loan_amnt                            1.000015\n",
      "loan_int_rate                        1.000015\n",
      "loan_status                          1.000015\n",
      "loan_percent_income                  1.000015\n",
      "cb_person_cred_hist_length           1.000015\n",
      "encoded_home_ownership               1.000015\n",
      "encoded_loan_intent                  1.000015\n",
      "encoded_loan_grade                   1.000015\n",
      "encoded_cb_person_default_on_file    1.000015\n",
      "dtype: float64\n"
     ]
    }
   ],
   "source": [
    "print(df[all_relevant_columns].mean())\n",
    "print(df[all_relevant_columns].std())"
   ]
  },
  {
   "cell_type": "code",
   "execution_count": 646,
   "id": "e5865054-6565-4498-85b2-27c86814215a",
   "metadata": {},
   "outputs": [
    {
     "data": {
      "text/plain": [
       "['person_age',\n",
       " 'person_income',\n",
       " 'person_emp_length',\n",
       " 'loan_amnt',\n",
       " 'loan_int_rate',\n",
       " 'loan_status',\n",
       " 'loan_percent_income',\n",
       " 'cb_person_cred_hist_length',\n",
       " 'encoded_home_ownership',\n",
       " 'encoded_loan_intent',\n",
       " 'encoded_loan_grade',\n",
       " 'encoded_cb_person_default_on_file']"
      ]
     },
     "execution_count": 646,
     "metadata": {},
     "output_type": "execute_result"
    }
   ],
   "source": [
    "all_relevant_columns"
   ]
  },
  {
   "cell_type": "code",
   "execution_count": 648,
   "id": "cddaf409-b13f-4f52-a1b4-a400838b62ab",
   "metadata": {},
   "outputs": [
    {
     "name": "stdout",
     "output_type": "stream",
     "text": [
      "Nombre d'exemples dans l'esnsemble d'entraînement: 25932\n",
      "Nombre d'exemples dans l'ensemble de test: 6484\n"
     ]
    }
   ],
   "source": [
    "from sklearn.model_selection import train_test_split\n",
    "X_train,X_test,y_train,y_test=train_test_split(X,y,test_size=0.2,random_state=42)\n",
    "print(f\"Nombre d'exemples dans l'esnsemble d'entraînement: {len(X_train)}\")\n",
    "print(f\"Nombre d'exemples dans l'ensemble de test: {len(X_test)}\")                                          \n",
    "                                               "
   ]
  },
  {
   "cell_type": "code",
   "execution_count": 733,
   "id": "dff898e7-1cd8-4437-be06-92f60008f718",
   "metadata": {},
   "outputs": [
    {
     "name": "stdout",
     "output_type": "stream",
     "text": [
      "loan_status\n",
      "-0.529055    25327\n",
      " 1.890164     7089\n",
      "Name: count, dtype: int64\n"
     ]
    }
   ],
   "source": [
    "label_counts=df['loan_status'].value_counts()\n",
    "print(label_counts)"
   ]
  },
  {
   "cell_type": "code",
   "execution_count": 735,
   "id": "e18d640d-7117-4e3a-ac94-536b51dea7b7",
   "metadata": {},
   "outputs": [
    {
     "name": "stdout",
     "output_type": "stream",
     "text": [
      "Accuracy : 0.93\n",
      "\n",
      "Rapport de classification :\n",
      "              precision    recall  f1-score   support\n",
      "\n",
      "           0       0.93      1.00      0.96      5073\n",
      "           1       0.98      0.72      0.83      1411\n",
      "\n",
      "    accuracy                           0.93      6484\n",
      "   macro avg       0.95      0.86      0.89      6484\n",
      "weighted avg       0.94      0.93      0.93      6484\n",
      "\n"
     ]
    }
   ],
   "source": [
    "from sklearn.ensemble import RandomForestClassifier\n",
    "from sklearn.model_selection import train_test_split\n",
    "from sklearn.metrics import accuracy_score, classification_report\n",
    "import pandas as pd\n",
    "\n",
    "# Convertir loan_status en binaire (0 ou 1) en fonction du seuil\n",
    "df['loan_status'] = df['loan_status'].apply(lambda x: 1 if x >= 0 else 0)\n",
    "\n",
    "# Sélectionner les colonnes pertinentes\n",
    "X = df[all_relevant_columns].drop(columns=['loan_status'])\n",
    "y = df['loan_status']\n",
    "\n",
    "# Vérification des NaN dans X et y\n",
    "X = X.fillna(0)\n",
    "y = y.fillna(0)\n",
    "\n",
    "# Diviser les données en jeu d'entraînement et de test\n",
    "X_train, X_test, y_train, y_test = train_test_split(X, y, test_size=0.2, random_state=42)\n",
    "\n",
    "# Modèle RandomForestClassifier\n",
    "modele = RandomForestClassifier(n_estimators=100, random_state=42)\n",
    "\n",
    "# Entraîner le modèle\n",
    "modele.fit(X_train, y_train)\n",
    "\n",
    "# Prédictions\n",
    "predictions = modele.predict(X_test)\n",
    "\n",
    "# Évaluation des performances\n",
    "print(f\"Accuracy : {accuracy_score(y_test, predictions):.2f}\")\n",
    "print(\"\\nRapport de classification :\")\n",
    "print(classification_report(y_test, predictions))"
   ]
  },
  {
   "cell_type": "code",
   "execution_count": 737,
   "id": "2fded5d0-dbda-4726-9475-34612f7fc3a3",
   "metadata": {},
   "outputs": [
    {
     "data": {
      "text/plain": [
       "['loan_status_modele_V1_pkl']"
      ]
     },
     "execution_count": 737,
     "metadata": {},
     "output_type": "execute_result"
    }
   ],
   "source": [
    "import joblib\n",
    "joblib.dump(modele,\"loan_status_modele_V1_pkl\")\n"
   ]
  },
  {
   "cell_type": "code",
   "execution_count": null,
   "id": "dc4e7fb2-ce4f-4402-a622-6f99002a1f5a",
   "metadata": {},
   "outputs": [],
   "source": []
  }
 ],
 "metadata": {
  "kernelspec": {
   "display_name": "Python 3 (ipykernel)",
   "language": "python",
   "name": "python3"
  },
  "language_info": {
   "codemirror_mode": {
    "name": "ipython",
    "version": 3
   },
   "file_extension": ".py",
   "mimetype": "text/x-python",
   "name": "python",
   "nbconvert_exporter": "python",
   "pygments_lexer": "ipython3",
   "version": "3.12.4"
  }
 },
 "nbformat": 4,
 "nbformat_minor": 5
}
